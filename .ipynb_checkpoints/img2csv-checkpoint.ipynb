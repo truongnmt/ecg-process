{
 "cells": [
  {
   "cell_type": "code",
   "execution_count": 10,
   "metadata": {},
   "outputs": [],
   "source": [
    "from __future__ import division\n",
    "import numpy as np\n",
    "import cv2\n",
    "import collections"
   ]
  },
  {
   "cell_type": "code",
   "execution_count": 11,
   "metadata": {},
   "outputs": [],
   "source": [
    "PATH = '/Users/truongnm/Downloads/data/images/04015.png'\n",
    "filename = os.path.splitext(os.path.basename(PATH))[0]\n",
    "img = cv2.imread(PATH)\n",
    "img = cv2.cvtColor(img, cv2.COLOR_BGR2GRAY)"
   ]
  },
  {
   "cell_type": "code",
   "execution_count": 12,
   "metadata": {},
   "outputs": [],
   "source": [
    "indices = np.where(img == [68]) # where pixel is pink (pink -> gray = 68)\n",
    "coordinates = np.array(list(zip(indices[1], indices[0])))  # -> coordinates[x, y]\n",
    "coordinates = coordinates[coordinates[:,0].argsort()] # sort and calculate mean value of identical items\n",
    "values_by_key = collections.defaultdict(list)\n",
    "for k, v in coordinates:\n",
    "    values_by_key[k].append(v)\n",
    "coordinates = sorted([(k, sum(v) / len(v)) for k, v in values_by_key.items()])"
   ]
  },
  {
   "cell_type": "code",
   "execution_count": 14,
   "metadata": {},
   "outputs": [],
   "source": [
    "with open('img2csv/%s-converted.csv' % filename, 'w+') as f:\n",
    "    for index, coordinate in enumerate(coordinates):        \n",
    "        f.write('{0},{1}\\n'.format((coordinate[0]-56)*0.004, round((122 - coordinate[1])/70, 3)))"
   ]
  }
 ],
 "metadata": {
  "kernelspec": {
   "display_name": "Python 3",
   "language": "python",
   "name": "python3"
  },
  "language_info": {
   "codemirror_mode": {
    "name": "ipython",
    "version": 3
   },
   "file_extension": ".py",
   "mimetype": "text/x-python",
   "name": "python",
   "nbconvert_exporter": "python",
   "pygments_lexer": "ipython3",
   "version": "3.6.5"
  }
 },
 "nbformat": 4,
 "nbformat_minor": 2
}
